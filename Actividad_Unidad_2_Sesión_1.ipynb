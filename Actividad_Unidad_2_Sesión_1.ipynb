{
  "nbformat": 4,
  "nbformat_minor": 0,
  "metadata": {
    "colab": {
      "provenance": [],
      "authorship_tag": "ABX9TyPVWyeXH4dFm0TcCUG9hIhS",
      "include_colab_link": true
    },
    "kernelspec": {
      "name": "python3",
      "display_name": "Python 3"
    },
    "language_info": {
      "name": "python"
    }
  },
  "cells": [
    {
      "cell_type": "markdown",
      "metadata": {
        "id": "view-in-github",
        "colab_type": "text"
      },
      "source": [
        "<a href=\"https://colab.research.google.com/github/ytucayasi/actividad-U02-S01/blob/main/Actividad_Unidad_2_Sesi%C3%B3n_1.ipynb\" target=\"_parent\"><img src=\"https://colab.research.google.com/assets/colab-badge.svg\" alt=\"Open In Colab\"/></a>"
      ]
    },
    {
      "cell_type": "markdown",
      "source": [
        "#Importa la biblioteca NumPy en tu entorno de trabajo de Python utilizando la siguiente instrucción:\n"
      ],
      "metadata": {
        "id": "_psJb7bJOtmE"
      }
    },
    {
      "cell_type": "code",
      "source": [
        "import numpy as np"
      ],
      "metadata": {
        "id": "HRGaoEIjOtYf"
      },
      "execution_count": 8,
      "outputs": []
    },
    {
      "cell_type": "markdown",
      "source": [
        "#1. Creación de Arrays"
      ],
      "metadata": {
        "id": "OGwZ81dEPL9K"
      }
    },
    {
      "cell_type": "markdown",
      "source": [
        "##1.1 Crea un array unidimensional (vector) con 5 elementos enteros de tu elección.\n"
      ],
      "metadata": {
        "id": "HvJXYgpjO7an"
      }
    },
    {
      "cell_type": "code",
      "source": [
        "# Crea un arreglo unidimensional con los números del 1 al 5\n",
        "array_unidimensional = np.array([1, 2, 3, 4, 5])\n",
        "\n",
        "# Imprime el arreglo creado\n",
        "print(array_unidimensional)"
      ],
      "metadata": {
        "colab": {
          "base_uri": "https://localhost:8080/"
        },
        "id": "gSRKk1luO_Zd",
        "outputId": "cf62b2f9-47cd-4856-d53d-2e2208ba7a03"
      },
      "execution_count": 5,
      "outputs": [
        {
          "output_type": "stream",
          "name": "stdout",
          "text": [
            "[1 2 3 4 5]\n"
          ]
        }
      ]
    },
    {
      "cell_type": "markdown",
      "source": [
        "##1.2 Crea una matriz bidimensional (matriz) de tamaño 3x3 con valores enteros consecutivos."
      ],
      "metadata": {
        "id": "GgwmMJZcPsXT"
      }
    },
    {
      "cell_type": "code",
      "source": [
        "# Crea un arreglo bidimensional (matriz) con 3 filas y 3 columnas\n",
        "# Cada fila contiene una lista de números\n",
        "array_bidimensional = np.array([[1, 2, 3], [4, 5, 6], [7, 8, 9]])\n",
        "\n",
        "# Imprime la matriz bidimensional creada\n",
        "print(array_bidimensional)"
      ],
      "metadata": {
        "colab": {
          "base_uri": "https://localhost:8080/"
        },
        "id": "KNOASzVGPwbT",
        "outputId": "3e178584-f913-4ecb-f438-ce212e763167"
      },
      "execution_count": 79,
      "outputs": [
        {
          "output_type": "stream",
          "name": "stdout",
          "text": [
            "[[1 2 3]\n",
            " [4 5 6]\n",
            " [7 8 9]]\n"
          ]
        }
      ]
    },
    {
      "cell_type": "markdown",
      "source": [
        "##1.3 Utiliza la función np.zeros() para crear una matriz de tamaño 2x4 llena de ceros"
      ],
      "metadata": {
        "id": "X_WKpJ_VQEmc"
      }
    },
    {
      "cell_type": "code",
      "source": [
        "# Crea un arreglo bidimensional (matriz) de 2 filas y 4 columnas, lleno de ceros.\n",
        "# El argumento 'int' especifica que los ceros serán del tipo entero.\n",
        "array_ceros = np.zeros((2, 4), int)\n",
        "\n",
        "# Imprime la matriz de ceros creada\n",
        "print(array_ceros)"
      ],
      "metadata": {
        "colab": {
          "base_uri": "https://localhost:8080/"
        },
        "id": "TkZMDdvJQhRM",
        "outputId": "68dcfe9e-7f65-4736-c8cc-47e0416fbd4d"
      },
      "execution_count": 78,
      "outputs": [
        {
          "output_type": "stream",
          "name": "stdout",
          "text": [
            "[[0 0 0 0]\n",
            " [0 0 0 0]]\n"
          ]
        }
      ]
    },
    {
      "cell_type": "markdown",
      "source": [
        "##1.4 Utiliza la función np.ones() para crear una matriz de tamaño 3x2 llena de unos"
      ],
      "metadata": {
        "id": "Y2FmbqgxQvOw"
      }
    },
    {
      "cell_type": "code",
      "source": [
        "# Creamos un array de unos con dimensiones 3x2 utilizando NumPy\n",
        "array_unos = np.ones((3, 2), int)\n",
        "\n",
        "# Imprimimos el array de unos\n",
        "print(array_unos)"
      ],
      "metadata": {
        "colab": {
          "base_uri": "https://localhost:8080/"
        },
        "id": "kBD2PlWpQzTC",
        "outputId": "4ec3aa6c-08de-417f-be97-62f0ef3f66d8"
      },
      "execution_count": 17,
      "outputs": [
        {
          "output_type": "stream",
          "name": "stdout",
          "text": [
            "[[1 1]\n",
            " [1 1]\n",
            " [1 1]]\n"
          ]
        }
      ]
    },
    {
      "cell_type": "markdown",
      "source": [
        "##1.5 Utiliza la función np.random.randint() para crear una matriz de tamaño 4x4 con números enteros aleatorios entre 0 y 10"
      ],
      "metadata": {
        "id": "KIIQy9-mRAnb"
      }
    },
    {
      "cell_type": "code",
      "source": [
        "# Generamos una matriz de enteros aleatorios entre 0 y 9 (inclusive) con dimensiones 4x4 utilizando NumPy\n",
        "array_randint = np.random.randint(0, 10, size=(4, 4))\n",
        "\n",
        "# Imprimimos la matriz de enteros aleatorios\n",
        "print(array_randint)"
      ],
      "metadata": {
        "colab": {
          "base_uri": "https://localhost:8080/"
        },
        "id": "tJo0A3jtRDdT",
        "outputId": "3774ab44-8a68-469f-8fdc-57db2d8e6326"
      },
      "execution_count": 80,
      "outputs": [
        {
          "output_type": "stream",
          "name": "stdout",
          "text": [
            "[[4 6 9 2]\n",
            " [6 4 1 5]\n",
            " [6 0 1 3]\n",
            " [1 2 2 3]]\n"
          ]
        }
      ]
    },
    {
      "cell_type": "markdown",
      "source": [
        "# 2. Acceso a elementos"
      ],
      "metadata": {
        "id": "eIgojdlCRqO2"
      }
    },
    {
      "cell_type": "markdown",
      "source": [
        "## 2.1. Accede al tercer elemento del vector creado en el paso 1."
      ],
      "metadata": {
        "id": "X6kpvni_RxG5"
      }
    },
    {
      "cell_type": "code",
      "source": [
        "print(\"El tercer elemento del vector creado en el paso 1: \", array_unidimensional[2])"
      ],
      "metadata": {
        "colab": {
          "base_uri": "https://localhost:8080/"
        },
        "id": "mYAsTWUYR0Z1",
        "outputId": "f539b3f7-89c4-4858-d810-062e318280c0"
      },
      "execution_count": 27,
      "outputs": [
        {
          "output_type": "stream",
          "name": "stdout",
          "text": [
            "El tercer elemento del vector creado en el paso 1:  3\n"
          ]
        }
      ]
    },
    {
      "cell_type": "markdown",
      "source": [
        "##2.2. Accede al elemento en la segunda fila y segunda columna de la matriz creada en el paso 2."
      ],
      "metadata": {
        "id": "mbidKyWDSihR"
      }
    },
    {
      "cell_type": "code",
      "source": [
        "print(\"El elemento en la segunda fila y segunda columna de la matriz creada en el paso 2: \", array_bidimensional[1][1])"
      ],
      "metadata": {
        "colab": {
          "base_uri": "https://localhost:8080/"
        },
        "id": "SVDyQ27kSnNt",
        "outputId": "03c86df0-911a-4d73-898a-51afbf9a3160"
      },
      "execution_count": 26,
      "outputs": [
        {
          "output_type": "stream",
          "name": "stdout",
          "text": [
            "El elemento en la segunda fila y segunda columna de la matriz creada en el paso 2:  5\n"
          ]
        }
      ]
    },
    {
      "cell_type": "markdown",
      "source": [
        "#3. Propiedades de los Arrays"
      ],
      "metadata": {
        "id": "gmEEth7_Tq25"
      }
    },
    {
      "cell_type": "markdown",
      "source": [
        "##3.1. Utiliza el atributo ndim para verificar la cantidad de dimensiones de la matriz creada en el paso 2."
      ],
      "metadata": {
        "id": "15JXBWcPTt9U"
      }
    },
    {
      "cell_type": "code",
      "source": [
        "print(\"La cantidad de dimensiones de la matriz creada en el paso 2 es: \", array_bidimensional.ndim, \"dimensiones\")"
      ],
      "metadata": {
        "colab": {
          "base_uri": "https://localhost:8080/"
        },
        "id": "1-njgNHtTynD",
        "outputId": "180f7460-caaa-42a9-a44a-454bdc20cc8a"
      },
      "execution_count": 29,
      "outputs": [
        {
          "output_type": "stream",
          "name": "stdout",
          "text": [
            "La cantidad de dimensiones de la matriz creada en el paso 2 es:  2 dimensiones\n"
          ]
        }
      ]
    },
    {
      "cell_type": "markdown",
      "source": [
        "##3.2. Utiliza el atributo shape para obtener la forma de la matriz creada en el paso 2."
      ],
      "metadata": {
        "id": "gvOzLtOgUWyn"
      }
    },
    {
      "cell_type": "code",
      "source": [
        "print(\"La forma de la matriz creada en el paso 2, tiene\", array_bidimensional.shape[0], \"filas\", \"y\", array_bidimensional.shape[1], \"columnas\")"
      ],
      "metadata": {
        "colab": {
          "base_uri": "https://localhost:8080/"
        },
        "id": "n3jW8DniUavP",
        "outputId": "0f43cdd4-11df-4bd4-8e54-f0763867802b"
      },
      "execution_count": 33,
      "outputs": [
        {
          "output_type": "stream",
          "name": "stdout",
          "text": [
            "La forma de la matriz creada en el paso 2, tiene 3 filas y 3 columnas\n"
          ]
        }
      ]
    },
    {
      "cell_type": "markdown",
      "source": [
        "##3.3. Utiliza el atributo size para obtener el tamaño total de la matriz creada en el paso 2."
      ],
      "metadata": {
        "id": "whsmfd-VUzhS"
      }
    },
    {
      "cell_type": "code",
      "source": [
        "print(\"El tamaño de la matriz creada en el paso 2 es:\", array_bidimensional.size, \"elementos\")"
      ],
      "metadata": {
        "colab": {
          "base_uri": "https://localhost:8080/"
        },
        "id": "mPgvNGcOU4KH",
        "outputId": "b9a48f58-0a3e-43d1-9125-41486c8babb1"
      },
      "execution_count": 36,
      "outputs": [
        {
          "output_type": "stream",
          "name": "stdout",
          "text": [
            "El tamaño de la matriz creada en el paso 2 es: 9 elementos\n"
          ]
        }
      ]
    },
    {
      "cell_type": "markdown",
      "source": [
        "#4. Operaciones Básicas"
      ],
      "metadata": {
        "id": "iZUM7ti0VGT0"
      }
    },
    {
      "cell_type": "markdown",
      "source": [
        "##4.1. Suma dos matrices de tamaño 2x2 con valores aleatorios entre 0 y 10"
      ],
      "metadata": {
        "id": "eUThw-83VK5Y"
      }
    },
    {
      "cell_type": "code",
      "source": [
        "a = np.random.randint(0, 10, size=(2, 2))\n",
        "b = np.random.randint(0, 10, size=(2, 2))\n",
        "c = a + b\n",
        "print(\"Matriz 1: \")\n",
        "print(a)\n",
        "print(\"Matriz 2: \")\n",
        "print(b)\n",
        "print(\"Suma de la Matriz 1 y 2: \")\n",
        "print(c)"
      ],
      "metadata": {
        "colab": {
          "base_uri": "https://localhost:8080/"
        },
        "id": "BYX9sc6DVN7Q",
        "outputId": "d645cf92-c595-4b06-f43c-bc60192f1864"
      },
      "execution_count": 41,
      "outputs": [
        {
          "output_type": "stream",
          "name": "stdout",
          "text": [
            "Matriz 1: \n",
            "[[1 0]\n",
            " [6 1]]\n",
            "Matriz 2: \n",
            "[[8 4]\n",
            " [9 3]]\n",
            "Suma de la Matriz 1 y 2: \n",
            "[[ 9  4]\n",
            " [15  4]]\n"
          ]
        }
      ]
    },
    {
      "cell_type": "markdown",
      "source": [
        "##4.2. Multiplica dos matrices de tamaño 3x2 y 2x3 respectivamente."
      ],
      "metadata": {
        "id": "jntph-R7WC4K"
      }
    },
    {
      "cell_type": "code",
      "source": [
        "d = np.random.randint(0, 10, size=(3, 3))\n",
        "e = np.random.randint(0, 10, size=(3, 3))\n",
        "f = d * e\n",
        "print(\"Matriz 1\")\n",
        "print(d)\n",
        "print(\"Matriz 2\")\n",
        "print(e)\n",
        "print(\"Multiplicación de la Matriz 1 y 2\")\n",
        "print(f)"
      ],
      "metadata": {
        "colab": {
          "base_uri": "https://localhost:8080/"
        },
        "id": "PR4N9n03WLmJ",
        "outputId": "d7d675ab-7911-4220-c327-af9b30b5edcc"
      },
      "execution_count": 61,
      "outputs": [
        {
          "output_type": "stream",
          "name": "stdout",
          "text": [
            "Matriz 1\n",
            "[[4 1 1]\n",
            " [7 1 3]\n",
            " [5 8 8]]\n",
            "Matriz 2\n",
            "[[9 6 7]\n",
            " [5 0 8]\n",
            " [3 0 7]]\n",
            "Multiplicación de la Matriz 1 y 2\n",
            "[[36  6  7]\n",
            " [35  0 24]\n",
            " [15  0 56]]\n"
          ]
        }
      ]
    },
    {
      "cell_type": "markdown",
      "source": [
        "##4.3. Divide una matriz de tamaño 2x2 por otra matriz de tamaño 2x2, utilizando tanto la división por elementos como la multiplicación por la inversa.\n"
      ],
      "metadata": {
        "id": "XWnq49MeXcsg"
      }
    },
    {
      "cell_type": "code",
      "source": [
        "g = np.random.randint(1, 10, size=(2, 2))\n",
        "h = np.random.randint(1, 10, size=(2, 2))\n",
        "i = g / h\n",
        "h_inversa = np.linalg.inv(h)\n",
        "j = np.dot(g, h_inversa)\n",
        "print(\"Matriz 1\")\n",
        "print(g)\n",
        "print(\"Matriz 2\")\n",
        "print(h)\n",
        "print(\"División de la Matriz 1 y 2\")\n",
        "print(i)\n",
        "print(\"Multiplicación por la inversa de la Matriz 2:\")\n",
        "print(j)"
      ],
      "metadata": {
        "colab": {
          "base_uri": "https://localhost:8080/"
        },
        "id": "zSjMpnSVXgxH",
        "outputId": "c5594f79-2ef0-4f95-f12d-2ce305de4d9d"
      },
      "execution_count": 54,
      "outputs": [
        {
          "output_type": "stream",
          "name": "stdout",
          "text": [
            "Matriz 1\n",
            "[[2 8]\n",
            " [2 1]]\n",
            "Matriz 2\n",
            "[[7 7]\n",
            " [1 9]]\n",
            "División de la Matriz 1 y 2\n",
            "[[0.28571429 1.14285714]\n",
            " [2.         0.11111111]]\n",
            "Multiplicación por la inversa de la Matriz 2:\n",
            "[[ 0.17857143  0.75      ]\n",
            " [ 0.30357143 -0.125     ]]\n"
          ]
        }
      ]
    },
    {
      "cell_type": "markdown",
      "source": [
        "#5. Manipulación de Arrays"
      ],
      "metadata": {
        "id": "xYnNk_D9ZI3n"
      }
    },
    {
      "cell_type": "markdown",
      "source": [
        "##5.1. Utiliza la función reshape() para convertir el vector creado en el paso 2 en una matriz de tamaño 1x9."
      ],
      "metadata": {
        "id": "tpeE1zExZB4z"
      }
    },
    {
      "cell_type": "code",
      "source": [
        "print(\"Trasformar la forma de la matriz creada en el paso 2\")\n",
        "print(array_bidimensional.reshape(1, 9))"
      ],
      "metadata": {
        "colab": {
          "base_uri": "https://localhost:8080/"
        },
        "id": "ATxE8B_iZGiF",
        "outputId": "43f3d233-5265-43d3-e067-a33a08e7e1b1"
      },
      "execution_count": 62,
      "outputs": [
        {
          "output_type": "stream",
          "name": "stdout",
          "text": [
            "Trasformar la forma de la matriz creada en el paso 2\n",
            "[[1 2 3 4 5 6 7 8 9]]\n"
          ]
        }
      ]
    },
    {
      "cell_type": "markdown",
      "source": [
        "## 5.2. Utiliza la función flatten() para convertir la matriz creada en el paso 2 en un vector unidimensional."
      ],
      "metadata": {
        "id": "a6oQqhqZZ6bq"
      }
    },
    {
      "cell_type": "code",
      "source": [
        "print(\"Transformando la matriz creada en el paso 2 en una matriz unidimensional\")\n",
        "print(array_bidimensional.flatten())"
      ],
      "metadata": {
        "colab": {
          "base_uri": "https://localhost:8080/"
        },
        "id": "z6iAtvkMaAqa",
        "outputId": "e2676c10-bcb8-4afc-eaf6-293e7cceb84a"
      },
      "execution_count": 65,
      "outputs": [
        {
          "output_type": "stream",
          "name": "stdout",
          "text": [
            "Transformando la matriz creada en el paso 2 en una matriz unidimensional\n",
            "[1 2 3 4 5 6 7 8 9]\n"
          ]
        }
      ]
    },
    {
      "cell_type": "markdown",
      "source": [
        "#6. Operaciones Estadísticas"
      ],
      "metadata": {
        "id": "RnBf9h9lahaz"
      }
    },
    {
      "cell_type": "markdown",
      "source": [
        "##6.1. Calcula la suma de todos los elementos de la matriz creada en el paso 2."
      ],
      "metadata": {
        "id": "dKD4k0ovaoVF"
      }
    },
    {
      "cell_type": "code",
      "source": [
        "suma = 0\n",
        "for i in range(3):\n",
        "  for j in range(3):\n",
        "    suma += array_bidimensional[i][j]\n",
        "print(\"La suma de todos los elementos de la matriz creada en el paso 2:\", suma)"
      ],
      "metadata": {
        "colab": {
          "base_uri": "https://localhost:8080/"
        },
        "id": "HKoUAlT3an3-",
        "outputId": "a6e15092-4dc1-4bb0-8414-2fcce094609a"
      },
      "execution_count": 66,
      "outputs": [
        {
          "output_type": "stream",
          "name": "stdout",
          "text": [
            "La suma de todos los elementos de la matriz creada en el paso 2: 45\n"
          ]
        }
      ]
    },
    {
      "cell_type": "markdown",
      "source": [
        "##6.2. Calcula la media de cada fila de la matriz creada en el paso 2.\n"
      ],
      "metadata": {
        "id": "8TxZIRXdbLzb"
      }
    },
    {
      "cell_type": "code",
      "source": [
        "promedio = 0\n",
        "conteo = 0\n",
        "total = 0\n",
        "for i in range(3):\n",
        "  promedio = 0\n",
        "  conteo = 0\n",
        "  for j in range(3):\n",
        "    promedio += array_bidimensional[i][j]\n",
        "    conteo += 1\n",
        "  total = promedio / conteo\n",
        "  print(\"El promedio de la fila\",(i + 1), \"es:\", total)"
      ],
      "metadata": {
        "colab": {
          "base_uri": "https://localhost:8080/"
        },
        "id": "6mTfQVwpbRJU",
        "outputId": "e7af1411-d556-4acd-c951-7e032a83a6a6"
      },
      "execution_count": 69,
      "outputs": [
        {
          "output_type": "stream",
          "name": "stdout",
          "text": [
            "El promedio de la fila 1 es: 2.0\n",
            "El promedio de la fila 2 es: 5.0\n",
            "El promedio de la fila 3 es: 8.0\n"
          ]
        }
      ]
    },
    {
      "cell_type": "markdown",
      "source": [
        "#7. Indexación y Rebanado"
      ],
      "metadata": {
        "id": "jgnnp9IXcXB1"
      }
    },
    {
      "cell_type": "markdown",
      "source": [
        "##7.1. Imprime la primera fila de la matriz creada en el paso 2."
      ],
      "metadata": {
        "id": "dyNe3KJrcaMS"
      }
    },
    {
      "cell_type": "code",
      "source": [
        "print(\"Mostrando la primera fila de la matriz creada en el paso 2\")\n",
        "print(array_bidimensional[0])"
      ],
      "metadata": {
        "colab": {
          "base_uri": "https://localhost:8080/"
        },
        "id": "9fcvPt1OcYlt",
        "outputId": "1a48b539-c326-47f1-e74d-e10c26f4619a"
      },
      "execution_count": 70,
      "outputs": [
        {
          "output_type": "stream",
          "name": "stdout",
          "text": [
            "Mostrando la primera fila de a matriz creada en el paso 2\n",
            "[1 2 3]\n"
          ]
        }
      ]
    },
    {
      "cell_type": "markdown",
      "source": [
        "##7.2. Imprime las primeras dos columnas de la matriz creada en el paso 2."
      ],
      "metadata": {
        "id": "LU71iWAEcrh8"
      }
    },
    {
      "cell_type": "code",
      "source": [
        "print(\"Mostrando las primeras 2 columnas de la matriz creada en el paso 2\")\n",
        "print(array_bidimensional[0][:2])"
      ],
      "metadata": {
        "colab": {
          "base_uri": "https://localhost:8080/"
        },
        "id": "mvSYZB9GcwDx",
        "outputId": "6b0b65cc-ce9f-44b1-b838-6a92a7cf848d"
      },
      "execution_count": 71,
      "outputs": [
        {
          "output_type": "stream",
          "name": "stdout",
          "text": [
            "Mostrando las primeras 2 columnas de la matriz creada en el paso 2\n",
            "[1 2]\n"
          ]
        }
      ]
    },
    {
      "cell_type": "markdown",
      "source": [
        "#8. Ejercicio Adicional"
      ],
      "metadata": {
        "id": "U2i0CWdPdiz8"
      }
    },
    {
      "cell_type": "markdown",
      "source": [
        "##8.1. Define una matriz de tamaño 4x4 con valores aleatorios."
      ],
      "metadata": {
        "id": "uNwKEv3Kdl6X"
      }
    },
    {
      "cell_type": "code",
      "source": [
        "matriz_adicional = np.random.randint(1, 100, size=(4, 4))\n",
        "print(matriz_adicional)"
      ],
      "metadata": {
        "colab": {
          "base_uri": "https://localhost:8080/"
        },
        "id": "TAeviYBwdpjF",
        "outputId": "4f75c4a7-1bcc-4d32-e839-a07bd6a6e17d"
      },
      "execution_count": 74,
      "outputs": [
        {
          "output_type": "stream",
          "name": "stdout",
          "text": [
            "[[ 1 64 98 60]\n",
            " [25 67 44 39]\n",
            " [55 74 53  8]\n",
            " [28 12 51 93]]\n"
          ]
        }
      ]
    },
    {
      "cell_type": "markdown",
      "source": [
        "##8.2. Escribe un código para encontrar el valor máximo y mínimo de la matriz, así como su posición."
      ],
      "metadata": {
        "id": "zDbfLw8Md2fO"
      }
    },
    {
      "cell_type": "code",
      "source": [
        "# Definición de la función encontrar_max_min que recibe una matriz como entrada\n",
        "def encontrar_max_min(matriz):\n",
        "    # Inicialización de las variables para almacenar el máximo y mínimo valores\n",
        "    max_valor = float('-inf')  # Se inicializa con el valor negativo infinito\n",
        "    min_valor = float('inf')   # Se inicializa con el valor positivo infinito\n",
        "    # Inicialización de las variables para almacenar las posiciones del máximo y mínimo valores\n",
        "    max_posicion = None  # Inicialmente no se ha encontrado ninguna posición del máximo valor\n",
        "    min_posicion = None  # Inicialmente no se ha encontrado ninguna posición del mínimo valor\n",
        "    # Iteración sobre las filas de la matriz\n",
        "    for i in range(len(matriz)):\n",
        "        # Iteración sobre las columnas de la matriz\n",
        "        for j in range(len(matriz[0])):\n",
        "            # Comprobación si el valor actual es mayor que el máximo valor encontrado hasta ahora\n",
        "            if matriz[i][j] > max_valor:\n",
        "                # Si es así, actualiza el máximo valor y su posición\n",
        "                max_valor = matriz[i][j]\n",
        "                max_posicion = (i, j)\n",
        "            # Comprobación si el valor actual es menor que el mínimo valor encontrado hasta ahora\n",
        "            if matriz[i][j] < min_valor:\n",
        "                # Si es así, actualiza el mínimo valor y su posición\n",
        "                min_valor = matriz[i][j]\n",
        "                min_posicion = (i, j)\n",
        "\n",
        "    # Retorna el máximo valor, su posición, el mínimo valor y su posición\n",
        "    return max_valor, max_posicion, min_valor, min_posicion\n",
        "\n",
        "# Llamada a la función encontrar_max_min con la matriz_adicional como argumento\n",
        "maximo, posicion_max, minimo, posicion_min = encontrar_max_min(matriz_adicional)\n",
        "\n",
        "# Impresión del máximo valor y su posición\n",
        "print(\"El valor máximo es:\", maximo, \"en la posición:\", posicion_max)\n",
        "\n",
        "# Impresión del mínimo valor y su posición\n",
        "print(\"El valor mínimo es:\", minimo, \"en la posición:\", posicion_min)"
      ],
      "metadata": {
        "colab": {
          "base_uri": "https://localhost:8080/"
        },
        "id": "JvwgllEld5YX",
        "outputId": "b15b9be0-331b-4db5-d961-977df1a2696c"
      },
      "execution_count": 77,
      "outputs": [
        {
          "output_type": "stream",
          "name": "stdout",
          "text": [
            "El valor máximo es: 98 en la posición: (0, 2)\n",
            "El valor mínimo es: 1 en la posición: (0, 0)\n"
          ]
        }
      ]
    }
  ]
}